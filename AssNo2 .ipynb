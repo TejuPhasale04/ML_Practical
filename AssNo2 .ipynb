{
 "cells": [
  {
   "cell_type": "code",
   "execution_count": 120,
   "id": "69a008b3-9a94-449f-a9ad-62a1c069d6f5",
   "metadata": {},
   "outputs": [],
   "source": [
    "import pandas as pd\n",
    "from sklearn.linear_model import LinearRegression \n",
    "from sklearn.model_selection import train_test_split\n",
    "import matplotlib.pyplot as plt\n",
    "from sklearn.metrics import mean_absolute_error ,mean_squared_error"
   ]
  },
  {
   "cell_type": "code",
   "execution_count": 121,
   "id": "1d4af0b8-c641-46ac-a304-23d9cfe07a2c",
   "metadata": {},
   "outputs": [],
   "source": [
    "df=pd.read_csv(\"Laptop_price.csv\")"
   ]
  },
  {
   "cell_type": "code",
   "execution_count": 122,
   "id": "46a588e7-931a-476b-88a9-d857c42913f1",
   "metadata": {},
   "outputs": [
    {
     "data": {
      "text/html": [
       "<div>\n",
       "<style scoped>\n",
       "    .dataframe tbody tr th:only-of-type {\n",
       "        vertical-align: middle;\n",
       "    }\n",
       "\n",
       "    .dataframe tbody tr th {\n",
       "        vertical-align: top;\n",
       "    }\n",
       "\n",
       "    .dataframe thead th {\n",
       "        text-align: right;\n",
       "    }\n",
       "</style>\n",
       "<table border=\"1\" class=\"dataframe\">\n",
       "  <thead>\n",
       "    <tr style=\"text-align: right;\">\n",
       "      <th></th>\n",
       "      <th>Brand</th>\n",
       "      <th>Processor_Speed</th>\n",
       "      <th>RAM_Size</th>\n",
       "      <th>Storage_Capacity</th>\n",
       "      <th>Screen_Size</th>\n",
       "      <th>Weight</th>\n",
       "      <th>Price</th>\n",
       "    </tr>\n",
       "  </thead>\n",
       "  <tbody>\n",
       "    <tr>\n",
       "      <th>0</th>\n",
       "      <td>Asus</td>\n",
       "      <td>3.830296</td>\n",
       "      <td>16</td>\n",
       "      <td>512</td>\n",
       "      <td>11.185147</td>\n",
       "      <td>2.641094</td>\n",
       "      <td>17395.093065</td>\n",
       "    </tr>\n",
       "    <tr>\n",
       "      <th>1</th>\n",
       "      <td>Acer</td>\n",
       "      <td>2.912833</td>\n",
       "      <td>4</td>\n",
       "      <td>1000</td>\n",
       "      <td>11.311372</td>\n",
       "      <td>3.260012</td>\n",
       "      <td>31607.605919</td>\n",
       "    </tr>\n",
       "    <tr>\n",
       "      <th>2</th>\n",
       "      <td>Lenovo</td>\n",
       "      <td>3.241627</td>\n",
       "      <td>4</td>\n",
       "      <td>256</td>\n",
       "      <td>11.853023</td>\n",
       "      <td>2.029061</td>\n",
       "      <td>9291.023542</td>\n",
       "    </tr>\n",
       "    <tr>\n",
       "      <th>3</th>\n",
       "      <td>Acer</td>\n",
       "      <td>3.806248</td>\n",
       "      <td>16</td>\n",
       "      <td>512</td>\n",
       "      <td>12.280360</td>\n",
       "      <td>4.573865</td>\n",
       "      <td>17436.728334</td>\n",
       "    </tr>\n",
       "    <tr>\n",
       "      <th>4</th>\n",
       "      <td>Acer</td>\n",
       "      <td>3.268097</td>\n",
       "      <td>32</td>\n",
       "      <td>1000</td>\n",
       "      <td>14.990877</td>\n",
       "      <td>4.193472</td>\n",
       "      <td>32917.990718</td>\n",
       "    </tr>\n",
       "    <tr>\n",
       "      <th>...</th>\n",
       "      <td>...</td>\n",
       "      <td>...</td>\n",
       "      <td>...</td>\n",
       "      <td>...</td>\n",
       "      <td>...</td>\n",
       "      <td>...</td>\n",
       "      <td>...</td>\n",
       "    </tr>\n",
       "    <tr>\n",
       "      <th>995</th>\n",
       "      <td>HP</td>\n",
       "      <td>3.343584</td>\n",
       "      <td>4</td>\n",
       "      <td>1000</td>\n",
       "      <td>12.587095</td>\n",
       "      <td>3.162399</td>\n",
       "      <td>31593.668017</td>\n",
       "    </tr>\n",
       "    <tr>\n",
       "      <th>996</th>\n",
       "      <td>Dell</td>\n",
       "      <td>2.780555</td>\n",
       "      <td>8</td>\n",
       "      <td>256</td>\n",
       "      <td>12.679356</td>\n",
       "      <td>3.750265</td>\n",
       "      <td>9149.521832</td>\n",
       "    </tr>\n",
       "    <tr>\n",
       "      <th>997</th>\n",
       "      <td>Dell</td>\n",
       "      <td>3.200569</td>\n",
       "      <td>4</td>\n",
       "      <td>512</td>\n",
       "      <td>12.666315</td>\n",
       "      <td>3.392612</td>\n",
       "      <td>16552.404779</td>\n",
       "    </tr>\n",
       "    <tr>\n",
       "      <th>998</th>\n",
       "      <td>Asus</td>\n",
       "      <td>1.604182</td>\n",
       "      <td>8</td>\n",
       "      <td>256</td>\n",
       "      <td>11.215581</td>\n",
       "      <td>3.857613</td>\n",
       "      <td>9407.473459</td>\n",
       "    </tr>\n",
       "    <tr>\n",
       "      <th>999</th>\n",
       "      <td>Lenovo</td>\n",
       "      <td>1.711980</td>\n",
       "      <td>4</td>\n",
       "      <td>256</td>\n",
       "      <td>16.561498</td>\n",
       "      <td>3.440883</td>\n",
       "      <td>8807.696702</td>\n",
       "    </tr>\n",
       "  </tbody>\n",
       "</table>\n",
       "<p>1000 rows × 7 columns</p>\n",
       "</div>"
      ],
      "text/plain": [
       "      Brand  Processor_Speed  RAM_Size  Storage_Capacity  Screen_Size  \\\n",
       "0      Asus         3.830296        16               512    11.185147   \n",
       "1      Acer         2.912833         4              1000    11.311372   \n",
       "2    Lenovo         3.241627         4               256    11.853023   \n",
       "3      Acer         3.806248        16               512    12.280360   \n",
       "4      Acer         3.268097        32              1000    14.990877   \n",
       "..      ...              ...       ...               ...          ...   \n",
       "995      HP         3.343584         4              1000    12.587095   \n",
       "996    Dell         2.780555         8               256    12.679356   \n",
       "997    Dell         3.200569         4               512    12.666315   \n",
       "998    Asus         1.604182         8               256    11.215581   \n",
       "999  Lenovo         1.711980         4               256    16.561498   \n",
       "\n",
       "       Weight         Price  \n",
       "0    2.641094  17395.093065  \n",
       "1    3.260012  31607.605919  \n",
       "2    2.029061   9291.023542  \n",
       "3    4.573865  17436.728334  \n",
       "4    4.193472  32917.990718  \n",
       "..        ...           ...  \n",
       "995  3.162399  31593.668017  \n",
       "996  3.750265   9149.521832  \n",
       "997  3.392612  16552.404779  \n",
       "998  3.857613   9407.473459  \n",
       "999  3.440883   8807.696702  \n",
       "\n",
       "[1000 rows x 7 columns]"
      ]
     },
     "execution_count": 122,
     "metadata": {},
     "output_type": "execute_result"
    }
   ],
   "source": [
    "df"
   ]
  },
  {
   "cell_type": "code",
   "execution_count": 123,
   "id": "f81e990c-7afb-4dfc-b946-0c3425dbb250",
   "metadata": {},
   "outputs": [
    {
     "data": {
      "text/html": [
       "<div>\n",
       "<style scoped>\n",
       "    .dataframe tbody tr th:only-of-type {\n",
       "        vertical-align: middle;\n",
       "    }\n",
       "\n",
       "    .dataframe tbody tr th {\n",
       "        vertical-align: top;\n",
       "    }\n",
       "\n",
       "    .dataframe thead th {\n",
       "        text-align: right;\n",
       "    }\n",
       "</style>\n",
       "<table border=\"1\" class=\"dataframe\">\n",
       "  <thead>\n",
       "    <tr style=\"text-align: right;\">\n",
       "      <th></th>\n",
       "      <th>Processor_Speed</th>\n",
       "      <th>RAM_Size</th>\n",
       "      <th>Storage_Capacity</th>\n",
       "      <th>Screen_Size</th>\n",
       "      <th>Weight</th>\n",
       "      <th>Price</th>\n",
       "    </tr>\n",
       "  </thead>\n",
       "  <tbody>\n",
       "    <tr>\n",
       "      <th>count</th>\n",
       "      <td>1000.000000</td>\n",
       "      <td>1000.000000</td>\n",
       "      <td>1000.000000</td>\n",
       "      <td>1000.000000</td>\n",
       "      <td>1000.000000</td>\n",
       "      <td>1000.000000</td>\n",
       "    </tr>\n",
       "    <tr>\n",
       "      <th>mean</th>\n",
       "      <td>2.750611</td>\n",
       "      <td>15.500000</td>\n",
       "      <td>584.576000</td>\n",
       "      <td>14.056790</td>\n",
       "      <td>3.466919</td>\n",
       "      <td>19604.187963</td>\n",
       "    </tr>\n",
       "    <tr>\n",
       "      <th>std</th>\n",
       "      <td>0.731796</td>\n",
       "      <td>10.988665</td>\n",
       "      <td>313.438517</td>\n",
       "      <td>1.705882</td>\n",
       "      <td>0.866541</td>\n",
       "      <td>9406.064880</td>\n",
       "    </tr>\n",
       "    <tr>\n",
       "      <th>min</th>\n",
       "      <td>1.511580</td>\n",
       "      <td>4.000000</td>\n",
       "      <td>256.000000</td>\n",
       "      <td>11.012111</td>\n",
       "      <td>2.000560</td>\n",
       "      <td>8570.012950</td>\n",
       "    </tr>\n",
       "    <tr>\n",
       "      <th>25%</th>\n",
       "      <td>2.089246</td>\n",
       "      <td>8.000000</td>\n",
       "      <td>256.000000</td>\n",
       "      <td>12.635523</td>\n",
       "      <td>2.717211</td>\n",
       "      <td>10114.012948</td>\n",
       "    </tr>\n",
       "    <tr>\n",
       "      <th>50%</th>\n",
       "      <td>2.760885</td>\n",
       "      <td>16.000000</td>\n",
       "      <td>512.000000</td>\n",
       "      <td>14.099643</td>\n",
       "      <td>3.464630</td>\n",
       "      <td>17287.241878</td>\n",
       "    </tr>\n",
       "    <tr>\n",
       "      <th>75%</th>\n",
       "      <td>3.362610</td>\n",
       "      <td>32.000000</td>\n",
       "      <td>1000.000000</td>\n",
       "      <td>15.528590</td>\n",
       "      <td>4.212583</td>\n",
       "      <td>31566.214754</td>\n",
       "    </tr>\n",
       "    <tr>\n",
       "      <th>max</th>\n",
       "      <td>3.998534</td>\n",
       "      <td>32.000000</td>\n",
       "      <td>1000.000000</td>\n",
       "      <td>16.985737</td>\n",
       "      <td>4.990728</td>\n",
       "      <td>33503.935037</td>\n",
       "    </tr>\n",
       "  </tbody>\n",
       "</table>\n",
       "</div>"
      ],
      "text/plain": [
       "       Processor_Speed     RAM_Size  Storage_Capacity  Screen_Size  \\\n",
       "count      1000.000000  1000.000000       1000.000000  1000.000000   \n",
       "mean          2.750611    15.500000        584.576000    14.056790   \n",
       "std           0.731796    10.988665        313.438517     1.705882   \n",
       "min           1.511580     4.000000        256.000000    11.012111   \n",
       "25%           2.089246     8.000000        256.000000    12.635523   \n",
       "50%           2.760885    16.000000        512.000000    14.099643   \n",
       "75%           3.362610    32.000000       1000.000000    15.528590   \n",
       "max           3.998534    32.000000       1000.000000    16.985737   \n",
       "\n",
       "            Weight         Price  \n",
       "count  1000.000000   1000.000000  \n",
       "mean      3.466919  19604.187963  \n",
       "std       0.866541   9406.064880  \n",
       "min       2.000560   8570.012950  \n",
       "25%       2.717211  10114.012948  \n",
       "50%       3.464630  17287.241878  \n",
       "75%       4.212583  31566.214754  \n",
       "max       4.990728  33503.935037  "
      ]
     },
     "execution_count": 123,
     "metadata": {},
     "output_type": "execute_result"
    }
   ],
   "source": [
    "df.describe()"
   ]
  },
  {
   "cell_type": "code",
   "execution_count": 124,
   "id": "9a052ad3-5579-4db6-b5f4-b331459d03a4",
   "metadata": {},
   "outputs": [
    {
     "data": {
      "text/plain": [
       "Brand               0\n",
       "Processor_Speed     0\n",
       "RAM_Size            0\n",
       "Storage_Capacity    0\n",
       "Screen_Size         0\n",
       "Weight              0\n",
       "Price               0\n",
       "dtype: int64"
      ]
     },
     "execution_count": 124,
     "metadata": {},
     "output_type": "execute_result"
    }
   ],
   "source": [
    "df.isna().sum()"
   ]
  },
  {
   "cell_type": "code",
   "execution_count": 185,
   "id": "fdd3d085-f1e3-4707-9325-b486d5f6ca8a",
   "metadata": {},
   "outputs": [],
   "source": [
    "x=df[[\"Processor_Speed\",\"RAM_Size\", \"Storage_Capacity\", \"Screen_Size\",\"Weight\"]]\n",
    "y=df[[\"Price\"]]"
   ]
  },
  {
   "cell_type": "code",
   "execution_count": 186,
   "id": "f319a25d-5be6-49fe-81a7-636a413b46bd",
   "metadata": {},
   "outputs": [],
   "source": [
    "x_train,x_test,y_train,y_test=train_test_split(x,y,test_size=0.2,random_state=20)"
   ]
  },
  {
   "cell_type": "code",
   "execution_count": 187,
   "id": "f25120b2-903a-4704-9bc3-77eb388ad870",
   "metadata": {},
   "outputs": [
    {
     "data": {
      "text/html": [
       "<div>\n",
       "<style scoped>\n",
       "    .dataframe tbody tr th:only-of-type {\n",
       "        vertical-align: middle;\n",
       "    }\n",
       "\n",
       "    .dataframe tbody tr th {\n",
       "        vertical-align: top;\n",
       "    }\n",
       "\n",
       "    .dataframe thead th {\n",
       "        text-align: right;\n",
       "    }\n",
       "</style>\n",
       "<table border=\"1\" class=\"dataframe\">\n",
       "  <thead>\n",
       "    <tr style=\"text-align: right;\">\n",
       "      <th></th>\n",
       "      <th>Price</th>\n",
       "    </tr>\n",
       "  </thead>\n",
       "  <tbody>\n",
       "    <tr>\n",
       "      <th>504</th>\n",
       "      <td>8990.324453</td>\n",
       "    </tr>\n",
       "    <tr>\n",
       "      <th>839</th>\n",
       "      <td>32824.337120</td>\n",
       "    </tr>\n",
       "    <tr>\n",
       "      <th>141</th>\n",
       "      <td>16954.665002</td>\n",
       "    </tr>\n",
       "    <tr>\n",
       "      <th>825</th>\n",
       "      <td>16788.156231</td>\n",
       "    </tr>\n",
       "    <tr>\n",
       "      <th>470</th>\n",
       "      <td>10231.289821</td>\n",
       "    </tr>\n",
       "    <tr>\n",
       "      <th>...</th>\n",
       "      <td>...</td>\n",
       "    </tr>\n",
       "    <tr>\n",
       "      <th>924</th>\n",
       "      <td>32563.092343</td>\n",
       "    </tr>\n",
       "    <tr>\n",
       "      <th>223</th>\n",
       "      <td>17880.004532</td>\n",
       "    </tr>\n",
       "    <tr>\n",
       "      <th>271</th>\n",
       "      <td>10723.115825</td>\n",
       "    </tr>\n",
       "    <tr>\n",
       "      <th>474</th>\n",
       "      <td>8957.611389</td>\n",
       "    </tr>\n",
       "    <tr>\n",
       "      <th>355</th>\n",
       "      <td>17642.983734</td>\n",
       "    </tr>\n",
       "  </tbody>\n",
       "</table>\n",
       "<p>800 rows × 1 columns</p>\n",
       "</div>"
      ],
      "text/plain": [
       "            Price\n",
       "504   8990.324453\n",
       "839  32824.337120\n",
       "141  16954.665002\n",
       "825  16788.156231\n",
       "470  10231.289821\n",
       "..            ...\n",
       "924  32563.092343\n",
       "223  17880.004532\n",
       "271  10723.115825\n",
       "474   8957.611389\n",
       "355  17642.983734\n",
       "\n",
       "[800 rows x 1 columns]"
      ]
     },
     "execution_count": 187,
     "metadata": {},
     "output_type": "execute_result"
    }
   ],
   "source": [
    "y_train"
   ]
  },
  {
   "cell_type": "code",
   "execution_count": 188,
   "id": "efae1b87-2ae7-4f24-9aeb-cafe3f573e6c",
   "metadata": {},
   "outputs": [],
   "source": [
    "regressor=LinearRegression()"
   ]
  },
  {
   "cell_type": "code",
   "execution_count": 189,
   "id": "1b44df44-f819-4a38-89b9-3ec6bc66f297",
   "metadata": {},
   "outputs": [
    {
     "data": {
      "text/html": [
       "<style>#sk-container-id-12 {color: black;}#sk-container-id-12 pre{padding: 0;}#sk-container-id-12 div.sk-toggleable {background-color: white;}#sk-container-id-12 label.sk-toggleable__label {cursor: pointer;display: block;width: 100%;margin-bottom: 0;padding: 0.3em;box-sizing: border-box;text-align: center;}#sk-container-id-12 label.sk-toggleable__label-arrow:before {content: \"▸\";float: left;margin-right: 0.25em;color: #696969;}#sk-container-id-12 label.sk-toggleable__label-arrow:hover:before {color: black;}#sk-container-id-12 div.sk-estimator:hover label.sk-toggleable__label-arrow:before {color: black;}#sk-container-id-12 div.sk-toggleable__content {max-height: 0;max-width: 0;overflow: hidden;text-align: left;background-color: #f0f8ff;}#sk-container-id-12 div.sk-toggleable__content pre {margin: 0.2em;color: black;border-radius: 0.25em;background-color: #f0f8ff;}#sk-container-id-12 input.sk-toggleable__control:checked~div.sk-toggleable__content {max-height: 200px;max-width: 100%;overflow: auto;}#sk-container-id-12 input.sk-toggleable__control:checked~label.sk-toggleable__label-arrow:before {content: \"▾\";}#sk-container-id-12 div.sk-estimator input.sk-toggleable__control:checked~label.sk-toggleable__label {background-color: #d4ebff;}#sk-container-id-12 div.sk-label input.sk-toggleable__control:checked~label.sk-toggleable__label {background-color: #d4ebff;}#sk-container-id-12 input.sk-hidden--visually {border: 0;clip: rect(1px 1px 1px 1px);clip: rect(1px, 1px, 1px, 1px);height: 1px;margin: -1px;overflow: hidden;padding: 0;position: absolute;width: 1px;}#sk-container-id-12 div.sk-estimator {font-family: monospace;background-color: #f0f8ff;border: 1px dotted black;border-radius: 0.25em;box-sizing: border-box;margin-bottom: 0.5em;}#sk-container-id-12 div.sk-estimator:hover {background-color: #d4ebff;}#sk-container-id-12 div.sk-parallel-item::after {content: \"\";width: 100%;border-bottom: 1px solid gray;flex-grow: 1;}#sk-container-id-12 div.sk-label:hover label.sk-toggleable__label {background-color: #d4ebff;}#sk-container-id-12 div.sk-serial::before {content: \"\";position: absolute;border-left: 1px solid gray;box-sizing: border-box;top: 0;bottom: 0;left: 50%;z-index: 0;}#sk-container-id-12 div.sk-serial {display: flex;flex-direction: column;align-items: center;background-color: white;padding-right: 0.2em;padding-left: 0.2em;position: relative;}#sk-container-id-12 div.sk-item {position: relative;z-index: 1;}#sk-container-id-12 div.sk-parallel {display: flex;align-items: stretch;justify-content: center;background-color: white;position: relative;}#sk-container-id-12 div.sk-item::before, #sk-container-id-12 div.sk-parallel-item::before {content: \"\";position: absolute;border-left: 1px solid gray;box-sizing: border-box;top: 0;bottom: 0;left: 50%;z-index: -1;}#sk-container-id-12 div.sk-parallel-item {display: flex;flex-direction: column;z-index: 1;position: relative;background-color: white;}#sk-container-id-12 div.sk-parallel-item:first-child::after {align-self: flex-end;width: 50%;}#sk-container-id-12 div.sk-parallel-item:last-child::after {align-self: flex-start;width: 50%;}#sk-container-id-12 div.sk-parallel-item:only-child::after {width: 0;}#sk-container-id-12 div.sk-dashed-wrapped {border: 1px dashed gray;margin: 0 0.4em 0.5em 0.4em;box-sizing: border-box;padding-bottom: 0.4em;background-color: white;}#sk-container-id-12 div.sk-label label {font-family: monospace;font-weight: bold;display: inline-block;line-height: 1.2em;}#sk-container-id-12 div.sk-label-container {text-align: center;}#sk-container-id-12 div.sk-container {/* jupyter's `normalize.less` sets `[hidden] { display: none; }` but bootstrap.min.css set `[hidden] { display: none !important; }` so we also need the `!important` here to be able to override the default hidden behavior on the sphinx rendered scikit-learn.org. See: https://github.com/scikit-learn/scikit-learn/issues/21755 */display: inline-block !important;position: relative;}#sk-container-id-12 div.sk-text-repr-fallback {display: none;}</style><div id=\"sk-container-id-12\" class=\"sk-top-container\"><div class=\"sk-text-repr-fallback\"><pre>LinearRegression()</pre><b>In a Jupyter environment, please rerun this cell to show the HTML representation or trust the notebook. <br />On GitHub, the HTML representation is unable to render, please try loading this page with nbviewer.org.</b></div><div class=\"sk-container\" hidden><div class=\"sk-item\"><div class=\"sk-estimator sk-toggleable\"><input class=\"sk-toggleable__control sk-hidden--visually\" id=\"sk-estimator-id-12\" type=\"checkbox\" checked><label for=\"sk-estimator-id-12\" class=\"sk-toggleable__label sk-toggleable__label-arrow\">LinearRegression</label><div class=\"sk-toggleable__content\"><pre>LinearRegression()</pre></div></div></div></div></div>"
      ],
      "text/plain": [
       "LinearRegression()"
      ]
     },
     "execution_count": 189,
     "metadata": {},
     "output_type": "execute_result"
    }
   ],
   "source": [
    "regressor.fit(x_train,y_train)"
   ]
  },
  {
   "cell_type": "code",
   "execution_count": 190,
   "id": "8050220c-7379-49ce-a83e-68c497dc80ae",
   "metadata": {},
   "outputs": [
    {
     "data": {
      "text/plain": [
       "array([[31910.37524965],\n",
       "       [18131.51001339],\n",
       "       [33057.79126269],\n",
       "       [18409.41391396],\n",
       "       [32738.20900423],\n",
       "       [18416.64983811],\n",
       "       [ 9180.78720225],\n",
       "       [31765.89205438],\n",
       "       [10439.4514507 ],\n",
       "       [31502.67289042],\n",
       "       [ 9659.42025313],\n",
       "       [10836.3793157 ],\n",
       "       [10589.340571  ],\n",
       "       [10783.60666096],\n",
       "       [31938.51449972],\n",
       "       [17248.407064  ],\n",
       "       [16973.59640173],\n",
       "       [32147.69652446],\n",
       "       [17675.7727384 ],\n",
       "       [31653.33052908],\n",
       "       [32079.45937954],\n",
       "       [32262.28924527],\n",
       "       [31187.74438311],\n",
       "       [18119.62370709],\n",
       "       [16732.20183268],\n",
       "       [ 9194.41440793],\n",
       "       [ 9186.66137586],\n",
       "       [ 9228.32778284],\n",
       "       [16863.2931936 ],\n",
       "       [17249.33557419],\n",
       "       [32893.75731401],\n",
       "       [31792.32994833],\n",
       "       [ 9445.6900305 ],\n",
       "       [31625.91887243],\n",
       "       [18492.70528339],\n",
       "       [31566.48195444],\n",
       "       [ 9599.78497025],\n",
       "       [31334.70357559],\n",
       "       [10637.27814859],\n",
       "       [17561.20560407],\n",
       "       [31616.10028649],\n",
       "       [16772.00493778],\n",
       "       [18357.03893245],\n",
       "       [16932.21276615],\n",
       "       [31547.11311379],\n",
       "       [10753.11451413],\n",
       "       [ 9197.60901373],\n",
       "       [32182.79323755],\n",
       "       [33020.34458211],\n",
       "       [16633.60924497],\n",
       "       [32060.04977542],\n",
       "       [16844.80365708],\n",
       "       [10618.01115647],\n",
       "       [16948.47737683],\n",
       "       [ 9358.79055139],\n",
       "       [ 9972.23238323],\n",
       "       [ 9557.70100544],\n",
       "       [31432.89632112],\n",
       "       [18067.57895651],\n",
       "       [33058.44066898],\n",
       "       [ 9314.44947917],\n",
       "       [ 9606.22038138],\n",
       "       [31934.2679841 ],\n",
       "       [31455.91529058],\n",
       "       [10386.2017409 ],\n",
       "       [16867.80951196],\n",
       "       [31623.83962921],\n",
       "       [32018.80827223],\n",
       "       [ 9280.23251021],\n",
       "       [31939.16268056],\n",
       "       [16891.98928169],\n",
       "       [16989.42212486],\n",
       "       [18450.93770446],\n",
       "       [32677.5487967 ],\n",
       "       [10748.16148613],\n",
       "       [ 9442.07957721],\n",
       "       [10552.36528031],\n",
       "       [16894.76458031],\n",
       "       [18406.71438581],\n",
       "       [17314.22783143],\n",
       "       [ 9600.09909533],\n",
       "       [17725.87989263],\n",
       "       [ 9505.38142375],\n",
       "       [16908.85859383],\n",
       "       [16880.37755213],\n",
       "       [16965.87831746],\n",
       "       [16862.10992424],\n",
       "       [31886.14194626],\n",
       "       [ 9564.50293089],\n",
       "       [ 9146.64577813],\n",
       "       [18219.7882447 ],\n",
       "       [10429.71567927],\n",
       "       [31256.3964704 ],\n",
       "       [16998.86208284],\n",
       "       [17106.2121485 ],\n",
       "       [16847.58118374],\n",
       "       [32275.44346103],\n",
       "       [31612.66144549],\n",
       "       [31545.14174177],\n",
       "       [ 9096.12159278],\n",
       "       [ 9916.73690147],\n",
       "       [32016.35617664],\n",
       "       [17285.65848731],\n",
       "       [31525.93905396],\n",
       "       [17338.53235763],\n",
       "       [ 9266.69386454],\n",
       "       [32147.53579249],\n",
       "       [18012.86126024],\n",
       "       [31456.078869  ],\n",
       "       [16822.79848748],\n",
       "       [32693.93002293],\n",
       "       [17681.65703545],\n",
       "       [17355.03806339],\n",
       "       [31477.41371064],\n",
       "       [31774.76737002],\n",
       "       [18192.41805945],\n",
       "       [18264.53336412],\n",
       "       [16770.19567589],\n",
       "       [ 9780.36878923],\n",
       "       [31866.8391406 ],\n",
       "       [31361.15453666],\n",
       "       [32818.15744901],\n",
       "       [16652.87396954],\n",
       "       [32828.88930043],\n",
       "       [ 9125.53631588],\n",
       "       [32206.03845456],\n",
       "       [31900.84203584],\n",
       "       [32072.03388066],\n",
       "       [32927.37831074],\n",
       "       [10361.4413517 ],\n",
       "       [ 9309.32985278],\n",
       "       [ 9062.24664318],\n",
       "       [ 9356.37634974],\n",
       "       [ 9966.67671967],\n",
       "       [31699.73751921],\n",
       "       [32098.65090377],\n",
       "       [17329.43024961],\n",
       "       [17631.46801763],\n",
       "       [10026.70879124],\n",
       "       [10391.64748272],\n",
       "       [31490.83042705],\n",
       "       [ 9774.36843092],\n",
       "       [ 9305.91194892],\n",
       "       [ 9582.179669  ],\n",
       "       [18455.43234324],\n",
       "       [ 9138.63076744],\n",
       "       [10464.09190409],\n",
       "       [10784.3809002 ],\n",
       "       [16869.75701064],\n",
       "       [17010.08459956],\n",
       "       [16804.4195847 ],\n",
       "       [18413.23219388],\n",
       "       [18074.25543692],\n",
       "       [ 9083.30406056],\n",
       "       [17065.41286027],\n",
       "       [31493.51308213],\n",
       "       [31526.97445188],\n",
       "       [17184.33063043],\n",
       "       [18260.42874484],\n",
       "       [31783.34573756],\n",
       "       [ 9442.74664041],\n",
       "       [17510.4034094 ],\n",
       "       [16945.46338736],\n",
       "       [16835.20772955],\n",
       "       [31604.22388925],\n",
       "       [ 9280.54314954],\n",
       "       [ 9569.3389849 ],\n",
       "       [17243.52661334],\n",
       "       [10455.94813492],\n",
       "       [16869.86782405],\n",
       "       [ 9261.05126627],\n",
       "       [31597.70486892],\n",
       "       [31425.47278984],\n",
       "       [32643.81171952],\n",
       "       [16664.37116901],\n",
       "       [31459.14592397],\n",
       "       [31696.91761805],\n",
       "       [10776.16846553],\n",
       "       [32690.31896781],\n",
       "       [32168.47585891],\n",
       "       [ 8970.09694232],\n",
       "       [32016.049391  ],\n",
       "       [ 9282.7024327 ],\n",
       "       [32907.52289863],\n",
       "       [18060.67193183],\n",
       "       [16625.41641345],\n",
       "       [16834.26711999],\n",
       "       [31670.10947432],\n",
       "       [32737.65812143],\n",
       "       [ 9168.43133514],\n",
       "       [17548.38527942],\n",
       "       [32663.29664656],\n",
       "       [ 9812.43757402],\n",
       "       [ 9282.93464842],\n",
       "       [16932.32126448],\n",
       "       [ 9562.84493801],\n",
       "       [17410.49047148],\n",
       "       [32733.66475712],\n",
       "       [17626.26641674],\n",
       "       [ 8997.83379696]])"
      ]
     },
     "execution_count": 190,
     "metadata": {},
     "output_type": "execute_result"
    }
   ],
   "source": [
    "y_pred=regressor.predict(x_test)\n",
    "y_pred"
   ]
  },
  {
   "cell_type": "code",
   "execution_count": 191,
   "id": "9316f06c-5f04-4c4b-9aa4-6d649005ab8d",
   "metadata": {},
   "outputs": [
    {
     "data": {
      "text/plain": [
       "array([[198.12980464,  50.34804957,  29.97250136,  18.79195088,\n",
       "        -11.11593413]])"
      ]
     },
     "execution_count": 191,
     "metadata": {},
     "output_type": "execute_result"
    }
   ],
   "source": [
    "regressor.coef_"
   ]
  },
  {
   "cell_type": "code",
   "execution_count": 192,
   "id": "959725b7-89a9-4007-90a5-e92897b9bded",
   "metadata": {},
   "outputs": [
    {
     "data": {
      "text/plain": [
       "array([528.74162266])"
      ]
     },
     "execution_count": 192,
     "metadata": {},
     "output_type": "execute_result"
    }
   ],
   "source": [
    "regressor.intercept_"
   ]
  },
  {
   "cell_type": "code",
   "execution_count": 193,
   "id": "964cab4f-7151-4708-8332-2e1b82908af9",
   "metadata": {},
   "outputs": [
    {
     "data": {
      "text/plain": [
       "8132.020895015801"
      ]
     },
     "execution_count": 193,
     "metadata": {},
     "output_type": "execute_result"
    }
   ],
   "source": [
    "mean_absolute_error(y_test,pred)"
   ]
  },
  {
   "cell_type": "code",
   "execution_count": 194,
   "id": "8be83787-388f-4568-afd4-69a237747a71",
   "metadata": {},
   "outputs": [
    {
     "data": {
      "text/plain": [
       "85454052.05135392"
      ]
     },
     "execution_count": 194,
     "metadata": {},
     "output_type": "execute_result"
    }
   ],
   "source": [
    "mean_squared_error(y_test,pred)"
   ]
  },
  {
   "cell_type": "code",
   "execution_count": 195,
   "id": "18031e10-be80-494f-a6ce-5d11be17acaa",
   "metadata": {},
   "outputs": [],
   "source": [
    "r_sq=regressor.score(x_train,y_train)"
   ]
  },
  {
   "cell_type": "code",
   "execution_count": 196,
   "id": "2188d5ab-2918-49bf-9463-78b4cfa1882d",
   "metadata": {},
   "outputs": [
    {
     "name": "stdout",
     "output_type": "stream",
     "text": [
      "0.999572769160436\n"
     ]
    }
   ],
   "source": [
    "print(r_sq)"
   ]
  },
  {
   "cell_type": "code",
   "execution_count": 197,
   "id": "5a7385dd-42de-4a0e-945f-91b1d2e5731f",
   "metadata": {},
   "outputs": [
    {
     "data": {
      "text/plain": [
       "array([528.74162266])"
      ]
     },
     "execution_count": 197,
     "metadata": {},
     "output_type": "execute_result"
    }
   ],
   "source": [
    "regressor.intercept_"
   ]
  },
  {
   "cell_type": "code",
   "execution_count": 198,
   "id": "e3150b04-ad0c-4f5d-b450-370ec175e7ed",
   "metadata": {},
   "outputs": [
    {
     "data": {
      "text/plain": [
       "array([[198.12980464,  50.34804957,  29.97250136,  18.79195088,\n",
       "        -11.11593413]])"
      ]
     },
     "execution_count": 198,
     "metadata": {},
     "output_type": "execute_result"
    }
   ],
   "source": [
    "regressor.coef_"
   ]
  },
  {
   "cell_type": "code",
   "execution_count": null,
   "id": "9997b74d-cdf7-45b5-86e2-db116569945e",
   "metadata": {},
   "outputs": [],
   "source": []
  },
  {
   "cell_type": "code",
   "execution_count": null,
   "id": "fce784c5-043b-4361-a19a-d55995cbc1a6",
   "metadata": {},
   "outputs": [],
   "source": []
  },
  {
   "cell_type": "code",
   "execution_count": null,
   "id": "da6e0daa-e551-4e07-947f-a8068fcda447",
   "metadata": {},
   "outputs": [],
   "source": []
  },
  {
   "cell_type": "code",
   "execution_count": null,
   "id": "491c6c6d-e657-4661-9840-8a01d5ccdb1f",
   "metadata": {},
   "outputs": [],
   "source": []
  },
  {
   "cell_type": "code",
   "execution_count": null,
   "id": "d914e131-c027-40ea-8bbe-61825fddb418",
   "metadata": {},
   "outputs": [],
   "source": []
  },
  {
   "cell_type": "code",
   "execution_count": null,
   "id": "f8cd124c-befa-4b93-b49e-9b47fab2be98",
   "metadata": {},
   "outputs": [],
   "source": []
  },
  {
   "cell_type": "code",
   "execution_count": null,
   "id": "d5c064a0-3674-4aa6-b0ea-9a4f3bf2b478",
   "metadata": {},
   "outputs": [],
   "source": []
  }
 ],
 "metadata": {
  "kernelspec": {
   "display_name": "Python 3 (ipykernel)",
   "language": "python",
   "name": "python3"
  },
  "language_info": {
   "codemirror_mode": {
    "name": "ipython",
    "version": 3
   },
   "file_extension": ".py",
   "mimetype": "text/x-python",
   "name": "python",
   "nbconvert_exporter": "python",
   "pygments_lexer": "ipython3",
   "version": "3.10.6"
  }
 },
 "nbformat": 4,
 "nbformat_minor": 5
}
